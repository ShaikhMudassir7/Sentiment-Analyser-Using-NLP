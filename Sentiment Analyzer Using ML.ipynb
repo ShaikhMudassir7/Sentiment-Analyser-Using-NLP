{
 "cells": [
  {
   "cell_type": "markdown",
   "id": "15f6862b",
   "metadata": {},
   "source": [
    "# SENTIMENT ANALYSER USING NLP\n",
    "\n",
    "## Cleaning text steps:\n",
    " 1) Create a text file and fetch text from import\n",
    "     - Import String File\n",
    " 2) Convert the letters to lowercase ('Apple' is not equal to 'apple')\n",
    " 3) Remove punctuation like .,!? etc (Hi! This is Mudassir's CodingHood')\n",
    " \n",
    " Following is the Example **read.txt** file:\n"
   ]
  },
  {
   "cell_type": "raw",
   "id": "620adc5c",
   "metadata": {},
   "source": [
    "I Feel Victimized With The Other People!"
   ]
  },
  {
   "cell_type": "markdown",
   "id": "f6d828a9",
   "metadata": {},
   "source": [
    "**Then Import String**"
   ]
  },
  {
   "cell_type": "code",
   "execution_count": 1,
   "id": "9fa92fe2",
   "metadata": {},
   "outputs": [],
   "source": [
    "import string"
   ]
  },
  {
   "cell_type": "markdown",
   "id": "c7e5ed65",
   "metadata": {},
   "source": [
    "**Create a Method Cleaning**"
   ]
  },
  {
   "cell_type": "code",
   "execution_count": 2,
   "id": "0885bcb2",
   "metadata": {},
   "outputs": [],
   "source": [
    "def cleaning():\n",
    "    text = open('read.txt', encoding=\"utf-8\").read()\n",
    "    lower_cased = text.lower()\n",
    "    cleaned_string = lower_cased.translate(\n",
    "        str.maketrans('', '', string.punctuation))\n",
    "    # the str.maketrans have three parameter x,y and z\n",
    "    # x is the text to be replaced\n",
    "    # y is the text by which x will be replaced\n",
    "    # z is the text to be deleted\n",
    "    return cleaned_string"
   ]
  },
  {
   "cell_type": "code",
   "execution_count": 3,
   "id": "3556ffe8",
   "metadata": {},
   "outputs": [
    {
     "data": {
      "text/plain": [
       "'i feel victimized with the other people'"
      ]
     },
     "execution_count": 3,
     "metadata": {},
     "output_type": "execute_result"
    }
   ],
   "source": [
    "cleaning()"
   ]
  },
  {
   "cell_type": "markdown",
   "id": "2b5f1d2c",
   "metadata": {},
   "source": [
    "## Here the Cleaning is done now Tokenization & stop words steps:\n",
    "       1) Tokenization is to break the input strings into list (for e.g: ['I','Love','Python'])\n",
    "       2) Sentence should be breaked into words because NLP is Processing of Words\n",
    "       3) Stop words are the words which doesn't add any meaning to the sentence i.e 'I' doesn't add any emotion"
   ]
  },
  {
   "cell_type": "code",
   "execution_count": 4,
   "id": "8bd4c94c",
   "metadata": {},
   "outputs": [],
   "source": [
    "def tokenization():\n",
    "    cleaned_string = cleaning()\n",
    "    tokenized_text = cleaned_string.split()\n",
    "    return tokenized_text\n",
    "\n",
    "\n",
    "def stopwords():\n",
    "    # stop word list\n",
    "    tokenized_text = tokenization()\n",
    "    stop_words = [\"i\", \"me\", \"my\", \"myself\", \"we\", \"our\", \"ours\", \"ourselves\", \"you\", \"your\", \"yours\", \"yourself\",\n",
    "                  \"yourselves\", \"he\", \"him\", \"his\", \"himself\", \"she\", \"her\", \"hers\", \"herself\", \"it\", \"its\", \"itself\",\n",
    "                  \"they\", \"them\", \"their\", \"theirs\", \"themselves\", \"what\", \"which\", \"who\", \"whom\", \"this\", \"that\", \"these\",\n",
    "                  \"those\", \"am\", \"is\", \"are\", \"was\", \"were\", \"be\", \"been\", \"being\", \"have\", \"has\", \"had\", \"having\", \"do\",\n",
    "                  \"does\", \"did\", \"doing\", \"a\", \"an\", \"the\", \"and\", \"but\", \"if\", \"or\", \"because\", \"as\", \"until\", \"while\",\n",
    "                  \"of\", \"at\", \"by\", \"for\", \"with\", \"about\", \"against\", \"between\", \"into\", \"through\", \"during\", \"before\",\n",
    "                  \"after\", \"above\", \"below\", \"to\", \"from\", \"up\", \"down\", \"in\", \"out\", \"on\", \"off\", \"over\", \"under\", \"again\",\n",
    "                  \"further\", \"then\", \"once\", \"here\", \"there\", \"when\", \"where\", \"why\", \"how\", \"all\", \"any\", \"both\", \"each\",\n",
    "                  \"few\", \"more\", \"most\", \"other\", \"some\", \"such\", \"no\", \"nor\", \"not\", \"only\", \"own\", \"same\", \"so\", \"than\",\n",
    "                  \"too\", \"very\", \"s\", \"t\", \"can\", \"will\", \"just\", \"don\", \"should\", \"now\"]\n",
    "    final_words = []\n",
    "    for words in tokenized_text:\n",
    "        if words not in stop_words:\n",
    "            final_words.append(words)\n",
    "    return final_words"
   ]
  },
  {
   "cell_type": "markdown",
   "id": "0c9901f3",
   "metadata": {},
   "source": [
    "**The Tokenized Word will look like**"
   ]
  },
  {
   "cell_type": "code",
   "execution_count": 5,
   "id": "79d177e1",
   "metadata": {},
   "outputs": [
    {
     "data": {
      "text/plain": [
       "['i', 'feel', 'victimized', 'with', 'the', 'other', 'people']"
      ]
     },
     "execution_count": 5,
     "metadata": {},
     "output_type": "execute_result"
    }
   ],
   "source": [
    "tokenization()"
   ]
  },
  {
   "cell_type": "markdown",
   "id": "5c03960d",
   "metadata": {},
   "source": [
    "**And Final Word will look like**"
   ]
  },
  {
   "cell_type": "code",
   "execution_count": 6,
   "id": "1db195da",
   "metadata": {},
   "outputs": [
    {
     "data": {
      "text/plain": [
       "['feel', 'victimized', 'people']"
      ]
     },
     "execution_count": 6,
     "metadata": {},
     "output_type": "execute_result"
    }
   ],
   "source": [
    "stopwords()"
   ]
  },
  {
   "cell_type": "markdown",
   "id": "a8aec66c",
   "metadata": {},
   "source": [
    "## Now the  NLP Emotion Algorithm:\n",
    "1) Check if the word in final words is also present in the emotion.txt file\n",
    "     - Open the emotion.txt file\n",
    "     - Loop through each line in the file and clear it\n",
    "     - Extract the word and emotion using split\n",
    "\n",
    "2) if the word is present => add emotion to the emotion_list\n",
    "3) finally count the emotion in the emotion list\n",
    "\n",
    "**Download the emotion.text file from**\n",
    "- [Click Here](https://github.com/attreyabhatt/Sentiment-Analysis/blob/master/emotions.txt)"
   ]
  },
  {
   "cell_type": "markdown",
   "id": "b38f978f",
   "metadata": {},
   "source": [
    "**The Emotion Fetching Function**"
   ]
  },
  {
   "cell_type": "code",
   "execution_count": 7,
   "id": "bca0bcbb",
   "metadata": {},
   "outputs": [],
   "source": [
    "def emotions():\n",
    "    final_words = stopwords()\n",
    "    emotion_list = []\n",
    "    with open('emotions.txt', 'r') as file:\n",
    "        for line in file:\n",
    "            clear_line = line.replace(\"\\n\", '').replace(\",\", '').replace(\"'\", '').strip()\n",
    "            word, emotion = clear_line.split(':')\n",
    "            if word in final_words:\n",
    "                emotion_list.append(emotion)\n",
    "    return emotion_list"
   ]
  },
  {
   "cell_type": "markdown",
   "id": "50ad8ba8",
   "metadata": {},
   "source": [
    "**The emotion list will look like this**"
   ]
  },
  {
   "cell_type": "code",
   "execution_count": 9,
   "id": "7abb1ec2",
   "metadata": {},
   "outputs": [
    {
     "data": {
      "text/plain": [
       "[' cheated', ' sad']"
      ]
     },
     "execution_count": 9,
     "metadata": {},
     "output_type": "execute_result"
    }
   ],
   "source": [
    "emotions()"
   ]
  },
  {
   "cell_type": "markdown",
   "id": "912ff805",
   "metadata": {},
   "source": [
    "## Now we will try adding the following essay and getting emotion\n",
    "\n",
    "***```Sadness is a complex and profound emotion that permeates through the depths of our being, casting a shadow upon our hearts and minds. It is a feeling of deep sorrow, a poignant ache that engulfs us when faced with loss, disappointment, or despair. In moments of sadness, the world around us seems to lose its luster, and even the simplest tasks become burdensome.```***\n",
    "\n",
    "***```The weight of sadness can be crushing, like an invisible force that drains the colors from our lives. It slows our steps, dampens our spirits, and obscures our view of a brighter tomorrow. It is in these moments that we often find solace in introspection, allowing our tears to flow freely as a testament to the depth of our emotions.```***\n",
    "\n",
    "***```Sadness can be triggered by a myriad of reasons. It may be the result of a personal loss, the passing of a loved one whose absence leaves an indelible void in our hearts. It may arise from unfulfilled dreams or shattered aspirations, when our expectations collide with the harsh realities of life. It can also emerge from witnessing the suffering of others, feeling a deep empathy that resonates within our souls.```***\n",
    "\n",
    "***```During periods of sadness, we may experience a sense of isolation, as if we are adrift in a sea of melancholy. The world continues to spin around us, seemingly oblivious to our internal turmoil. It is during these moments that we yearn for understanding and compassion, longing for someone to extend a hand of comfort and reassurance.```***\n",
    "\n",
    "***```Yet, amidst the profound sadness, there is a beauty that emerges. It is a reminder of our shared humanity, the inherent capacity to feel and experience the full spectrum of emotions. It is through sadness that we gain a deeper appreciation for joy, for without the lows, the highs would lose their significance. Sadness provides an opportunity for growth, for introspection, and for rediscovering the strength that lies within us.```***\n",
    "\n",
    "***```In the face of sadness, it is crucial to remember that it is a transient state, a passing cloud that will eventually give way to brighter skies. Time, they say, is a great healer, and as the days unfold, the heaviness in our hearts begins to dissipate. The world gradually regains its vibrancy, and we find the resilience to move forward, carrying the lessons learned from our sadness.```***\n",
    "\n",
    "***```It is important to acknowledge and honor our sadness, to give ourselves permission to feel and process the emotions that arise. Whether through heartfelt conversations, creative expressions, or seeking support from loved ones, we can navigate the labyrinth of sadness with grace and resilience.```***\n",
    "\n",
    "***```Sadness, though often painful, is an integral part of the human experience. It teaches us compassion, resilience, and the profound capacity for emotional depth. As we embrace and navigate our sadness, we learn to appreciate the beauty of life's contrasts, cherishing the moments of joy that emerge from the shadows.```***"
   ]
  },
  {
   "cell_type": "code",
   "execution_count": 12,
   "id": "a0a9d2df",
   "metadata": {},
   "outputs": [
    {
     "data": {
      "text/plain": [
       "[' attached',\n",
       " ' happy',\n",
       " ' attached',\n",
       " ' sad',\n",
       " ' sad',\n",
       " ' sad',\n",
       " ' happy',\n",
       " ' loved']"
      ]
     },
     "execution_count": 12,
     "metadata": {},
     "output_type": "execute_result"
    }
   ],
   "source": [
    "emotions()"
   ]
  },
  {
   "cell_type": "markdown",
   "id": "bcee7fb5",
   "metadata": {},
   "source": [
    "**Now we will count the Emotions using count()**"
   ]
  },
  {
   "cell_type": "code",
   "execution_count": 26,
   "id": "81a019c6",
   "metadata": {},
   "outputs": [],
   "source": [
    "from collections import Counter\n",
    "def emotions_count():\n",
    "    emotion_list = emotions()\n",
    "    emotion_count = Counter(emotion_list)\n",
    "    return emotion_count"
   ]
  },
  {
   "cell_type": "markdown",
   "id": "3e16d6d8",
   "metadata": {},
   "source": [
    "**Now let's see the counts of each emotion in list**"
   ]
  },
  {
   "cell_type": "code",
   "execution_count": 27,
   "id": "fb8f8fa0",
   "metadata": {},
   "outputs": [
    {
     "data": {
      "text/plain": [
       "Counter({' sad': 3, ' attached': 2, ' happy': 2, ' loved': 1})"
      ]
     },
     "execution_count": 27,
     "metadata": {},
     "output_type": "execute_result"
    }
   ],
   "source": [
    "emotions_count()"
   ]
  },
  {
   "cell_type": "markdown",
   "id": "017bf7bd",
   "metadata": {},
   "source": [
    "- **Now this emotions will be plotted on statastical graph using matplotlib's pyplot**"
   ]
  },
  {
   "cell_type": "code",
   "execution_count": 28,
   "id": "256dc330",
   "metadata": {},
   "outputs": [],
   "source": [
    "import matplotlib.pyplot as plt"
   ]
  },
  {
   "cell_type": "markdown",
   "id": "6079d7ea",
   "metadata": {},
   "source": [
    "**After Importing write the following function**"
   ]
  },
  {
   "cell_type": "code",
   "execution_count": 29,
   "id": "399dc099",
   "metadata": {},
   "outputs": [],
   "source": [
    "def plot_emotion():\n",
    "    emotion_count = emotions_count()\n",
    "    plt.bar(emotion_count.keys(),emotion_count.values() )\n",
    "    plt.savefig('graph.png')\n",
    "    plt.show()"
   ]
  },
  {
   "cell_type": "markdown",
   "id": "850104b2",
   "metadata": {},
   "source": [
    "**You'll get following output**"
   ]
  },
  {
   "cell_type": "code",
   "execution_count": 30,
   "id": "64f7045f",
   "metadata": {},
   "outputs": [
    {
     "data": {
      "image/png": "[encoded data removed]",
      "text/plain": [
       "<Figure size 640x480 with 1 Axes>"
      ]
     },
     "metadata": {},
     "output_type": "display_data"
    }
   ],
   "source": [
    "plot_emotion()"
   ]
  }
 ],
 "metadata": {
  "kernelspec": {
   "display_name": "Python 3 (ipykernel)",
   "language": "python",
   "name": "python3"
  },
  "language_info": {
   "codemirror_mode": {
    "name": "ipython",
    "version": 3
   },
   "file_extension": ".py",
   "mimetype": "text/x-python",
   "name": "python",
   "nbconvert_exporter": "python",
   "pygments_lexer": "ipython3",
   "version": "3.11.4"
  }
 },
 "nbformat": 4,
 "nbformat_minor": 5
}
